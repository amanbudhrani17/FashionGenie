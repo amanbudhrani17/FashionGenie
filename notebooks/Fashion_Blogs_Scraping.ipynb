{
 "cells": [
  {
   "cell_type": "code",
   "execution_count": 1,
   "id": "0e647cce-cd03-41b5-88f8-fa549106c5be",
   "metadata": {},
   "outputs": [],
   "source": [
    "import requests\n",
    "from bs4 import BeautifulSoup\n",
    "import json\n"
   ]
  },
  {
   "cell_type": "code",
   "execution_count": 2,
   "id": "fa242150-e0f8-418c-9f80-195e7d040e11",
   "metadata": {},
   "outputs": [],
   "source": [
    "def getLinks():\n",
    "    main_url = \"https://www.bloglovin.com/blogs/le-fashion-39894\"\n",
    "    response = requests.get(main_url)\n",
    "    soup = BeautifulSoup(response.content, \"html.parser\")\n",
    "    script_tags = soup.find_all('script', type='text/javascript')\n",
    "\n",
    "    javascript_code = []\n",
    "    \n",
    "    for script_tag in script_tags:\n",
    "        if script_tag.string:  # Check if the tag contains script content\n",
    "            javascript_code.append(script_tag.string.strip())\n",
    "    i = 0;\n",
    "    st = javascript_code[1][123:len(javascript_code[1])-1]\n",
    "    json_dict = json.loads(st)\n",
    "    l=[]\n",
    "    for key in json_dict['postGridData']['meta']['resolved']['smallpost']:\n",
    "        l.append(json_dict['postGridData']['meta']['resolved']['smallpost'][key]['link'])\n",
    "    li=[]\n",
    "    for link in l:\n",
    "        if \"lefashion\" in link:\n",
    "            li.append(link)\n",
    "    return li"
   ]
  },
  {
   "cell_type": "code",
   "execution_count": 3,
   "id": "228b4eb4-b740-4c85-bd6a-3197ab8e3032",
   "metadata": {},
   "outputs": [],
   "source": [
    "def getPara(main_url):\n",
    "    response = requests.get(main_url)\n",
    "    soup = BeautifulSoup(response.content, \"html.parser\")\n",
    "    top_product_elements = soup.find('div', class_=\"post-body entry-content\")\n",
    "    visible_text = top_product_elements.get_text(strip=True)\n",
    "    return visible_text"
   ]
  },
  {
   "cell_type": "code",
   "execution_count": 4,
   "id": "0a50414d-6de5-4cb4-bf30-3350a9f11f67",
   "metadata": {},
   "outputs": [
    {
     "data": {
      "text/plain": [
       "\"Photo via:Harper's BazaarLeave it toChristine Centenerato come up with an easy yet super stylishfall and winter outfitcombo. All you need to recreate this greatstreet style lookis 2 key pieces: a neutralturtleneck sweaterand a pair ofwhite jeans. Complete the outfit with chicankle bootsand aclassic coat. Shop my top picks for getting the look below.JavaScript is currently disabled in this browser. Reactivate it to view this content.\""
      ]
     },
     "execution_count": 4,
     "metadata": {},
     "output_type": "execute_result"
    }
   ],
   "source": [
    "getPara('https://www.lefashion.com/2022/12/easy-fall-winter-outfit-idea-turtleneck-white-jeans.html')"
   ]
  },
  {
   "cell_type": "code",
   "execution_count": 5,
   "id": "c6513d19",
   "metadata": {},
   "outputs": [],
   "source": [
    "def getTrendingPara():\n",
    "    li =[]\n",
    "    l = getLinks()\n",
    "    print('done')\n",
    "    c=0\n",
    "    for link in l:\n",
    "        a = getPara(link)\n",
    "        print(c)\n",
    "        c=c+1\n",
    "        li.append(a)\n",
    "    return li\n",
    "        "
   ]
  },
  {
   "cell_type": "code",
   "execution_count": 6,
   "id": "6b6f41fc-8072-45de-bbf9-5752f80c82cb",
   "metadata": {},
   "outputs": [
    {
     "name": "stdout",
     "output_type": "stream",
     "text": [
      "done\n",
      "0\n",
      "1\n",
      "2\n",
      "3\n",
      "4\n",
      "5\n",
      "6\n",
      "7\n",
      "8\n",
      "9\n",
      "10\n",
      "11\n",
      "12\n",
      "13\n",
      "14\n",
      "15\n",
      "16\n",
      "17\n",
      "18\n",
      "19\n",
      "20\n",
      "21\n",
      "22\n",
      "23\n",
      "24\n",
      "25\n",
      "26\n",
      "27\n",
      "28\n",
      "29\n"
     ]
    }
   ],
   "source": [
    "res = getTrendingPara()"
   ]
  },
  {
   "cell_type": "code",
   "execution_count": 7,
   "id": "7fb3f2ee-d516-4d51-8a43-d007086c3dbe",
   "metadata": {},
   "outputs": [
    {
     "data": {
      "text/plain": [
       "[\"Photo via:Harper's BazaarLeave it toChristine Centenerato come up with an easy yet super stylishfall and winter outfitcombo. All you need to recreate this greatstreet style lookis 2 key pieces: a neutralturtleneck sweaterand a pair ofwhite jeans. Complete the outfit with chicankle bootsand aclassic coat. Shop my top picks for getting the look below.JavaScript is currently disabled in this browser. Reactivate it to view this content.\",\n",
       " 'Photo via:@totemeIf I had to live in aminimalist outfitthis season, this inspiration fromInstagramwould be it. Thefall lookis effortless and classic not to mention super easy to recreate—You may already have the 4 key pieces in your closet. All you need is a sleekblack coat, a basicblack turtleneck, croppedstraight-leg jeans, andmule flats. Swap inblack bootson colder days.JavaScript is currently disabled in this browser. Reactivate it to view this content.',\n",
       " \"Photo via:@elinklingHoliday party outfit ideasoften have a glitzy connotation which can lead to a lack of inspiration that caters to those with a moreminimalisttaste. Enter this pared down yet incredibly stylish look fromElin Kling. It's perfect for every holiday from Christmas to New Year's and everything in between. The major plus is it only calls for 3 key pieces: an oversizedbeige sweater, sleek blacksatin skirt, andblack mule heels.JavaScript is currently disabled in this browser. Reactivate it to view this content.\",\n",
       " \"Photo via:@nycbambiFor some seasons now,white denimhas no longer been a faux-pas comefall and winter. And, we thank the fashion gods for this—Just look how coolChristie Tyler's all-whitedenim outfitis. That said, no need to pack up your favoritewhite jeansorwhite denim jackets. Pair them withturtlenecksandankle bootsfor a cool cold-weather outfit. We rounded up 25 of the coolestwhite denimpieces to shop now below.JavaScript is currently disabled in this browser. Reactivate it to view this content.\",\n",
       " \"Photo via:@aninebingofficialModelMaya Steppershows us an insanely cool way to layer ablazerin this coolwinter outfit. To recreate her stylish cold-weather look you'll need a blackbeanie hat,plaid blazerorhoundstooth blazer, texturedcream sweater, and a pair ofjeans. To complete the look try acrossbody bagwith a statement strap.JavaScript is currently disabled in this browser. Reactivate it to view this content.\",\n",
       " 'Photo via:@mikhailova_mariaThis cozy yet elevated outfit inspiration fromMashais spot-on for fall and winter. Whether as a work look or running errands, thiseasy outfitwill come in handy. All you need is a neutralfur coat, awhite knit sweater, classicblack clutch bag, andblack pants. Complete the look with everything fromankle bootstomulesto classicsneakers.JavaScript is currently disabled in this browser. Reactivate it to view this content.',\n",
       " \"Photo via:@emmanuellek_Ah, good oleclassic ensembles—they never get old. This year, I'm looking toward functional, but stylish looks that pack a punch without being too dressed up. Thisfall outfitis ideal. Pair a neutral leatherbutton-down shirt(preferably loose fitting) with straight-legwhite jeansand your favorite heeledbootsfor an outfit that looks as good as it feels. Complete the look with a pair of trendyoval sunglasses. Shop the pieces to recreate it yourself below.JavaScript is currently disabled in this browser. Reactivate it to view this content.\",\n",
       " \"Photo via:@fashioninfluxHoundstoothhas always had a special place in my heart. The print is a classic and reminds me of thehoundstooth coatI wore the first day of my college internship atHarper's Bazaar. After seeing ahoundstooth jacketonLydia RosefromInstagram, my love was rekindled and I went on the hunt for a fresh coat or jacket with the print. Shop all my favorites below—You can wear ahoundstooth coat or jacketwith everything from a t-shirt, blackleggings, andankle bootsto aslip dresslayered withturtleneckandknee-high boots.JavaScript is currently disabled in this browser. Reactivate it to view this content.\",\n",
       " \"Photo via:@solenelaraLooking for someFrench-girl styleinspiration this season? Take a look at this low-key yet coolwinter outfit ideafromSolene Larathat's great for theweekend, running essential errands and more. To recreate the outfit you'll need acamel coat, a smalltan bag, a pair ofblack jeanswith raw hems, andblack ankle bootswith studded detailing.JavaScript is currently disabled in this browser. Reactivate it to view this content.\",\n",
       " 'Photos via:ShopbopWhether for Thanksgiving, Christmas or any of the other upcomingholiday festivities, I am loving thissatin tie-front top. The stylish top comes in at just over$100and goes great with everything fromhigh-waisted jeansto ablack pantsor aslip skirt.JavaScript is currently disabled in this browser. Reactivate it to view this content.',\n",
       " 'Photo via:Style Du MondeAfter seeing this incredibly cool street style outfit from modelAdut Akech Bior,over-the-knee bootsmoved quickly to the top of my must-have list. Whether with a classicblazerandleather skirtor with a chunkysweaterandleggings, a pair oftall bootsare guaranteed to elevate any fall or winter outfit. I rounded up 25 of my topover-the-knee bootpicks below.JavaScript is currently disabled in this browser. Reactivate it to view this content.',\n",
       " \"Photo via:@annelauremaisIf you're looking for an easy way to brighten up yourfall outfits, simply throw on a pair ofwhite jeans. A pair can instantly lighten up any look and go great with just about anything. Style yours likeAnne-Laure Maisdid, with aneutral sweater, a leathercrossbody bag, and heeledsuede ankle boots. Shop similarraw-hemoptions, along with our other favorite styles below.JavaScript is currently disabled in this browser. Reactivate it to view this content.\",\n",
       " \"Photo via:@veravanerpIf you're running late or are simply feeling uninspired when picking out youroutfitfor the day, these 2 pieces will definitely come in handy: ablue button-down shirtand chunkyhoop earrings. This combo can be worn to just about any occasion during any season. Not convinced? Consider the outfit ideas below forwork, brunch,date-night, running errands, and much more. You likely already have these pieces in your closet.Wear withjeans(classic blue, white or black work best) and any shoe (flats, mules, sneakers, booties, strappy sandals...etc.)Wear tucked in to amidi skirt(satin, printed, or solid colors all work), again with any shoe style depending on the occasion.Wear half-tucked into a pair ofdenim shorts(stick to classic, white or black options) and complete with sandals.Wear tucked into a pair ofdressy shorts(leather, camel, linen...etc.) and complete with sandals, mules, or heels.For a cozy weekend look, wear over a pair of classicblack leggingsand wear a comfy shoe like sneakers, flats, or sandals.Layer under aslip dressfor the ultimate fashion-forward look. This can be worn with any shoe. \\nGo casual with sneakers or a heeled style for a dressier event.Tuck intocropped wide-leg pants(black, white, camel options). For work, try a bootie or pump. For an \\neveryday look try sneakers, flats, mules, or even sandals.For a formal event, think '90s-chic (Sharon StoneorCarolyn Bessette-Kennedy). Tuck the shirt into anelegant skirtorsatin pantsand finish with a sleek shoe.JavaScript is currently disabled in this browser. Reactivate it to view this content.\",\n",
       " \"Photo via:Pretty LavishHello,sweaterdressseason. This one-and-done piece is classic, effortless, and a godsend \\nwhen I don't know what to wear. Wear with everything fromknee-high bootstosneakersand you're out the door in a flash. I rounded up my favoritesweaterdressesof the moment below.JavaScript is currently disabled in this browser. Reactivate it to view this content.\",\n",
       " \"Photo via:@totemeI love aneasy outfit idea, especially one that's classic and can stand the test of time. Enter this cool denim look fromTotême. All you need is 3 key pieces to recreate the outfit including a crispwhite button-down shirt,straight-leg jeans, and blackmule flats. Shop the actual look, plus similar pieces for getting the look below.JavaScript is currently disabled in this browser. Reactivate it to view this content.\",\n",
       " \"Photo via:Vogue ParisAs the temperature goes down, I've been looking for the perfectjacketsto layer over myfall outfits. One of my versatile favorites is a stylishgreen jacket. You can layer one over abutton-down shirtorsweater, pair one withjeansandflats, or even dress it up for a night out with asweater dressandboots. I rounded up 25 of my favorites below.JavaScript is currently disabled in this browser. Reactivate it to view this content.\",\n",
       " 'Photo via:@kaitlucasI love a stylish yeteasy lookso this3-piece outfit inspirationis right up my alley.Kaitlynn Hudson-Lucasshows that all it takes is a few effortless pieces to put together a coolfall look. All you need is a darktrench coat, a coolprint dress, andblack booties. Shop my favorites pieces for getting thefall outfitbelow.JavaScript is currently disabled in this browser. Reactivate it to view this content.',\n",
       " \"Photo via:@lea.elisabeth.aIf you're looking for inspiration on how to wear yourwhite jeansinto the fall season, look no further than thisFrench-girl inspirationfromLéa-Elisabeth. All you need is 3 key pieces to pull it off this season: ablack cardigan, high-waistedwhite jeans, andblack ballet flats.JavaScript is currently disabled in this browser. Reactivate it to view this content.\",\n",
       " 'Photo via:@gracekgardinerWith fall comes my rekindled love forberry lipsticks. The richlip coloris flattering on everyone and comes in a variety of finishes for every personal preference. Plus, you can wear the hue with any look. I love how modelGrace Gardinerwears her lipstick with a tousledupdoand awhite button-down shirt. Shop my topberry lipstickspicks below.JavaScript is currently disabled in this browser. Reactivate it to view this content.',\n",
       " 'Photos via:COSThese 5 minimalistfall outfit ideasmake for the perfectcapsule wardrobefor the season. In essence, you need 10 key pieces: awhite button-down shirt, blackboatneck top, blackleather blazer,white straight-leg jeans, cameltrench coat, wide-legblack jeans, blackloafers, whitedenim jacket, classicstraight-leg jeans, and awhite t-shirt. Shop my top picks below then mix and match for a variety of looks that are great for any occasion.JavaScript is currently disabled in this browser. Reactivate it to view this content.',\n",
       " 'Photo via:Ellinor LöfgrenOne of my favorite shoe styles for completing a variety offall outfitsis a great pair ofblack flats. Whether with asweaterandstraight-leg jeans, aprinted dressor withleather pantslikeEllinorabove,black flatsare a classic go-to, especially ablack ballet flat. Shop my top picks of the moment below.JavaScript is currently disabled in this browser. Reactivate it to view this content.',\n",
       " \"Photo via:@jeannedamasMeet the stylish3 piece-outfitideaFrench girlsare loving this season. I spotted it onJeanne Damasand her friend and can't wait to recreate theclassic look. All you need is a blackribbed top,raw-hem jeans, andespadrille wedge sandals. Best part is, you can wear this outfit straight into fall.JavaScript is currently disabled in this browser. Reactivate it to view this content.\",\n",
       " 'Photo via:Sandra SemburgNo need to put away your favorite silkyslip dressesjust yet. You can easily make them fall-appropriate by adding a warmer layer, like a simplejacket.\\xa0The way this street style star styled hers is proof–She wore hers with ablazer, leather bag, and classicballet flats. Other great shoe options areankle bootsorsneakers. Shop my favoritesilk dressesbelow.JavaScript is currently disabled in this browser. Reactivate it to view this content.',\n",
       " \"Photo via:@bysophiehSometimes thesimplest looksmake the most impact, and that's the exact case with thisInstagram outfitfromFrench stylemuseSophie Hubert. She took3 piecesand turned them into an incredibly stylishFrench-girl look: an oversizedblack button-down shirt, classicraw-hem jeans, andblack slingback heels.JavaScript is currently disabled in this browser. Reactivate it to view this content.\",\n",
       " \"Photos via:@asiatypekOne staple I can't live without forsummer outfitsis a great pair ofwhite jeans. Here, modelsLaura JulieandAmalie Moosgaard Nielsenshow just how a coolwhite denimcan be—Just add a basicwhite tank toporbutton-down shirt, sleeksandals, and you're good to go. Shop my top 25white jeanspicks below.JavaScript is currently disabled in this browser. Reactivate it to view this content.\",\n",
       " 'Photo via:@carmengracehamiltonWhen the weather starts to get hot I often reach for a breezylinen piece. My favorite at the moment? A sleeveless whitelinen dress. One can keep you looking and feeling cool without sacrificing style. Wear on the weekend or yournext vacationwith a chicstraw hatandlace-up sandalsfor the ultimatesummer look.JavaScript is currently disabled in this browser. Reactivate it to view this content.',\n",
       " 'Photo via:@leiasfezThis casual-coolsummer outfitproves thatcut-off denim shortscan look super chic if worn just like aFrench girl. Parisian Instagram starLeia Sfezwears herdenim shortswith a classic whitebutton-down shirt, classicblack shoulder bag, and Chanel cap-toeballet flats. Recreate thesummer weekend outfitwith my picks below.JavaScript is currently disabled in this browser. Reactivate it to view this content.',\n",
       " 'Photo via:Emma HillThis coolweekend-ready look, from British influencerEmma Hill, is perfect for running errands. Thecasual outfit ideais super easy to pull off— All you need is astriped button-down,tan tote bag, baggyblack pants, and whiteConverse sneakers.JavaScript is currently disabled in this browser. Reactivate it to view this content.',\n",
       " \"I am a sucker forgreat jeansno matter the season, so needless to say, I could totally live in this cooldenim outfit idea. To get the look you'll need a minimalistblack topwith wide sleeves, coolblack sunglasses, a statementhoop earring, classic woventote bag, statementmule sandals, and a cool lip color. Shop every piece of the outfit below.1.H&M V-Neck Blouse2.Chimi 09 Sunglasses3.Maria Black Sienna Single Layered Hoop Earring4.Dragon Diffusion Grace Double Jump Small Woven-Leather Basket Bag5.MAKE Beauty Serum Balm Intense Pigmented Lip Emollient6.AGOLDE '90s Pinch High Waist Straight Leg Organic Cotton Jeans(alsohere)7.Jil Sander Tripon Leather Mule SandalsJavaScript is currently disabled in this browser. Reactivate it to view this content.\",\n",
       " 'Photo via:@natashandlovuAfter spotting model and content creatorNatasha Ndlovuin a pair oflight-wash jeans, I knew I had to have a pair. Whether with ablazerandwhite teeor with agoing-out top, this wash is perfect forspring and summer looks. Shop my top 25 picks of the season below.JavaScript is currently disabled in this browser. Reactivate it to view this content.']"
      ]
     },
     "execution_count": 7,
     "metadata": {},
     "output_type": "execute_result"
    }
   ],
   "source": [
    "res"
   ]
  },
  {
   "cell_type": "code",
   "execution_count": 3,
   "id": "60b46ef0-c1d7-4187-91c2-88420d21761e",
   "metadata": {},
   "outputs": [],
   "source": [
    "def getKeyWords():\n",
    "    links = getLinks()\n",
    "    li = []\n",
    "    c=0\n",
    "    for main_url in links:\n",
    "        print(c)\n",
    "        response = requests.get(main_url)\n",
    "        soup = BeautifulSoup(response.content, \"html.parser\")\n",
    "        top_product_elements = soup.find('span', class_=\"post-labels\")\n",
    "        s = top_product_elements.get_text(strip=True)\n",
    "        list1 = s[7:].split(',')\n",
    "        li.extend(list1)\n",
    "        c=c+1\n",
    "    return li"
   ]
  },
  {
   "cell_type": "code",
   "execution_count": 4,
   "id": "c072c3e7-0377-4772-8de8-ecc2b96e8855",
   "metadata": {},
   "outputs": [
    {
     "name": "stdout",
     "output_type": "stream",
     "text": [
      "0\n",
      "1\n",
      "2\n",
      "3\n",
      "4\n",
      "5\n",
      "6\n",
      "7\n",
      "8\n",
      "9\n",
      "10\n",
      "11\n",
      "12\n",
      "13\n",
      "14\n",
      "15\n",
      "16\n",
      "17\n",
      "18\n",
      "19\n",
      "20\n",
      "21\n",
      "22\n",
      "23\n",
      "24\n",
      "25\n",
      "26\n",
      "27\n",
      "28\n",
      "29\n"
     ]
    }
   ],
   "source": [
    "z = getKeyWords()"
   ]
  },
  {
   "cell_type": "code",
   "execution_count": 119,
   "id": "d72b88c7",
   "metadata": {},
   "outputs": [],
   "source": [
    "def getAnswers(main_url):\n",
    "    response = requests.get(main_url)\n",
    "    soup = BeautifulSoup(response.content, \"html.parser\")\n",
    "    tp = soup.find_all('div', class_=\"user-content clearfix\")\n",
    "    li = []\n",
    "    for i in tp:\n",
    "        vt = i.get_text(strip=True)\n",
    "        li.append(vt)\n",
    "    return li"
   ]
  },
  {
   "cell_type": "code",
   "execution_count": 3,
   "id": "4022dde1-8249-4885-a398-66575801b5bb",
   "metadata": {},
   "outputs": [],
   "source": [
    "def getQuestionLinks():\n",
    "    url = 'https://www.blurtit.com/Fashion/?page='\n",
    "    for i in range(1,55):\n",
    "        u = url+ str(i)\n",
    "        print(u)\n",
    "        "
   ]
  },
  {
   "cell_type": "code",
   "execution_count": 4,
   "id": "bdc45cfe-1e22-4bc5-8b97-57848f7e72ff",
   "metadata": {},
   "outputs": [
    {
     "name": "stdout",
     "output_type": "stream",
     "text": [
      "https://www.blurtit.com/Fashion/?page=1\n",
      "https://www.blurtit.com/Fashion/?page=2\n",
      "https://www.blurtit.com/Fashion/?page=3\n",
      "https://www.blurtit.com/Fashion/?page=4\n",
      "https://www.blurtit.com/Fashion/?page=5\n",
      "https://www.blurtit.com/Fashion/?page=6\n",
      "https://www.blurtit.com/Fashion/?page=7\n",
      "https://www.blurtit.com/Fashion/?page=8\n",
      "https://www.blurtit.com/Fashion/?page=9\n",
      "https://www.blurtit.com/Fashion/?page=10\n",
      "https://www.blurtit.com/Fashion/?page=11\n",
      "https://www.blurtit.com/Fashion/?page=12\n",
      "https://www.blurtit.com/Fashion/?page=13\n",
      "https://www.blurtit.com/Fashion/?page=14\n",
      "https://www.blurtit.com/Fashion/?page=15\n",
      "https://www.blurtit.com/Fashion/?page=16\n",
      "https://www.blurtit.com/Fashion/?page=17\n",
      "https://www.blurtit.com/Fashion/?page=18\n",
      "https://www.blurtit.com/Fashion/?page=19\n",
      "https://www.blurtit.com/Fashion/?page=20\n",
      "https://www.blurtit.com/Fashion/?page=21\n",
      "https://www.blurtit.com/Fashion/?page=22\n",
      "https://www.blurtit.com/Fashion/?page=23\n",
      "https://www.blurtit.com/Fashion/?page=24\n",
      "https://www.blurtit.com/Fashion/?page=25\n",
      "https://www.blurtit.com/Fashion/?page=26\n",
      "https://www.blurtit.com/Fashion/?page=27\n",
      "https://www.blurtit.com/Fashion/?page=28\n",
      "https://www.blurtit.com/Fashion/?page=29\n",
      "https://www.blurtit.com/Fashion/?page=30\n",
      "https://www.blurtit.com/Fashion/?page=31\n",
      "https://www.blurtit.com/Fashion/?page=32\n",
      "https://www.blurtit.com/Fashion/?page=33\n",
      "https://www.blurtit.com/Fashion/?page=34\n",
      "https://www.blurtit.com/Fashion/?page=35\n",
      "https://www.blurtit.com/Fashion/?page=36\n",
      "https://www.blurtit.com/Fashion/?page=37\n",
      "https://www.blurtit.com/Fashion/?page=38\n",
      "https://www.blurtit.com/Fashion/?page=39\n",
      "https://www.blurtit.com/Fashion/?page=40\n",
      "https://www.blurtit.com/Fashion/?page=41\n",
      "https://www.blurtit.com/Fashion/?page=42\n",
      "https://www.blurtit.com/Fashion/?page=43\n",
      "https://www.blurtit.com/Fashion/?page=44\n",
      "https://www.blurtit.com/Fashion/?page=45\n",
      "https://www.blurtit.com/Fashion/?page=46\n",
      "https://www.blurtit.com/Fashion/?page=47\n",
      "https://www.blurtit.com/Fashion/?page=48\n",
      "https://www.blurtit.com/Fashion/?page=49\n",
      "https://www.blurtit.com/Fashion/?page=50\n",
      "https://www.blurtit.com/Fashion/?page=51\n",
      "https://www.blurtit.com/Fashion/?page=52\n",
      "https://www.blurtit.com/Fashion/?page=53\n",
      "https://www.blurtit.com/Fashion/?page=54\n"
     ]
    }
   ],
   "source": [
    "getQuestionLinks()"
   ]
  },
  {
   "cell_type": "code",
   "execution_count": 6,
   "id": "7a647ec1-0c7f-49df-ad65-54727937d735",
   "metadata": {},
   "outputs": [
    {
     "data": {
      "text/plain": [
       "393"
      ]
     },
     "execution_count": 6,
     "metadata": {},
     "output_type": "execute_result"
    }
   ],
   "source": [
    "len(z)"
   ]
  },
  {
   "cell_type": "code",
   "execution_count": 7,
   "id": "178a411d",
   "metadata": {},
   "outputs": [
    {
     "name": "stdout",
     "output_type": "stream",
     "text": [
      "393\n",
      "All elements written to 'output.txt'\n"
     ]
    }
   ],
   "source": [
    "output_file_path = \"output.txt\"\n",
    "elements = z\n",
    "print(len(elements))\n",
    "# Open the file in write mode and write each element to a new line\n",
    "with open(output_file_path, 'w') as f:\n",
    "    for element in elements:\n",
    "        f.write(element + '\\n')\n",
    "\n",
    "print(f\"All elements written to '{output_file_path}'\")"
   ]
  },
  {
   "cell_type": "code",
   "execution_count": 19,
   "id": "9a88568c",
   "metadata": {},
   "outputs": [
    {
     "data": {
      "text/plain": [
       "['toChristine Centenerato come up with an easy yet super stylishfall and winter outfitcombo. All you need to recreate this greatstreet style lookis 2 key pieces: a neutralturtleneck sweaterand a pair ofwhite jeans. Complete the outfit with chicankle bootsand aclassic coat. Shop my top picks for getting the look below.',\n",
       " 'to live in aminimalist outfitthis season, this inspiration fromInstagramwould be it. Thefall lookis effortless and classic not to mention super easy to recreate—You may already have the 4 key pieces in your closet. All you need is a sleekblack coat, a basicblack turtleneck, croppedstraight-leg jeans, andmule flats. Swap inblack bootson colder days.',\n",
       " \"ideasoften have a glitzy connotation which can lead to a lack of inspiration that caters to those with a moreminimalisttaste. Enter this pared down yet incredibly stylish look fromElin Kling. It's perfect for every holiday from Christmas to New Year's and everything in between. The major plus is it only calls for 3 key pieces: an oversizedbeige sweater, sleek blacksatin skirt, andblack mule heels.\",\n",
       " \"now,white denimhas no longer been a faux-pas comefall and winter. And, we thank the fashion gods for this—Just look how coolChristie Tyler's all-whitedenim outfitis. That said, no need to pack up your favoritewhite jeansorwhite denim jackets. Pair them withturtlenecksandankle bootsfor a cool cold-weather outfit. We rounded up 25 of the coolestwhite denimpieces to shop now below.\",\n",
       " \"an insanely cool way to layer ablazerin this coolwinter outfit. To recreate her stylish cold-weather look you'll need a blackbeanie hat,plaid blazerorhoundstooth blazer, texturedcream sweater, and a pair ofjeans. To complete the look try acrossbody bagwith a statement strap.\",\n",
       " 'elevated outfit inspiration fromMashais spot-on for fall and winter. Whether as a work look or running errands, thiseasy outfitwill come in handy. All you need is a neutralfur coat, awhite knit sweater, classicblack clutch bag, andblack pants. Complete the look with everything fromankle bootstomulesto classicsneakers.',\n",
       " \"ensembles—they never get old. This year, I'm looking toward functional, but stylish looks that pack a punch without being too dressed up. Thisfall outfitis ideal. Pair a neutral leatherbutton-down shirt(preferably loose fitting) with straight-legwhite jeansand your favorite heeledbootsfor an outfit that looks as good as it feels. Complete the look with a pair of trendyoval sunglasses. Shop the pieces to recreate it yourself below.\",\n",
       " \"a special place in my heart. The print is a classic and reminds me of thehoundstooth coatI wore the first day of my college internship atHarper's Bazaar. After seeing ahoundstooth jacketonLydia RosefromInstagram, my love was rekindled and I went on the hunt for a fresh coat or jacket with the print. Shop all my favorites below—You can wear ahoundstooth coat or jacketwith everything from a t-shirt, blackleggings, andankle bootsto aslip dresslayered withturtleneckandknee-high boots.\",\n",
       " \"styleinspiration this season? Take a look at this low-key yet coolwinter outfit ideafromSolene Larathat's great for theweekend, running essential errands and more. To recreate the outfit you'll need acamel coat, a smalltan bag, a pair ofblack jeanswith raw hems, andblack ankle bootswith studded detailing.\",\n",
       " 'Christmas or any of the other upcomingholiday festivities, I am loving thissatin tie-front top. The stylish top comes in at just over$100and goes great with everything fromhigh-waisted jeansto ablack pantsor aslip skirt.',\n",
       " 'seeing this incredibly cool street style outfit from modelAdut Akech Bior,over-the-knee bootsmoved quickly to the top of my must-have list. Whether with a classicblazerandleather skirtor with a chunkysweaterandleggings, a pair oftall bootsare guaranteed to elevate any fall or winter outfit. I rounded up 25 of my topover-the-knee bootpicks below.',\n",
       " 'for an easy way to brighten up yourfall outfits, simply throw on a pair ofwhite jeans. A pair can instantly lighten up any look and go great with just about anything. Style yours likeAnne-Laure Maisdid, with aneutral sweater, a leathercrossbody bag, and heeledsuede ankle boots. Shop similarraw-hemoptions, along with our other favorite styles below.',\n",
       " \"late or are simply feeling uninspired when picking out youroutfitfor the day, these 2 pieces will definitely come in handy: ablue button-down shirtand chunkyhoop earrings. This combo can be worn to just about any occasion during any season. Not convinced? Consider the outfit ideas below forwork, brunch,date-night, running errands, and much more. You likely already have these pieces in your closet.Wear withjeans(classic blue, white or black work best) and any shoe (flats, mules, sneakers, booties, strappy sandals...etc.)Wear tucked in to amidi skirt(satin, printed, or solid colors all work), again with any shoe style depending on the occasion.Wear half-tucked into a pair ofdenim shorts(stick to classic, white or black options) and complete with sandals.Wear tucked into a pair ofdressy shorts(leather, camel, linen...etc.) and complete with sandals, mules, or heels.For a cozy weekend look, wear over a pair of classicblack leggingsand wear a comfy shoe like sneakers, flats, or sandals.Layer under aslip dressfor the ultimate fashion-forward look. This can be worn with any shoe. Go casual with sneakers or a heeled style for a dressier event.Tuck intocropped wide-leg pants(black, white, camel options). For work, try a bootie or pump. For an everyday look try sneakers, flats, mules, or even sandals.For a formal event, think '90s-chic (Sharon StoneorCarolyn Bessette-Kennedy). Tuck the shirt into anelegant skirtorsatin pantsand finish with a sleek shoe.\",\n",
       " \"one-and-done piece is classic, effortless, and a godsend when I don't know what to wear. Wear with everything fromknee-high bootstosneakersand you're out the door in a flash. I rounded up my favoritesweaterdressesof the moment below.\",\n",
       " \"outfit idea, especially one that's classic and can stand the test of time. Enter this cool denim look fromTotême. All you need is 3 key pieces to recreate the outfit including a crispwhite button-down shirt,straight-leg jeans, and blackmule flats. Shop the actual look, plus similar pieces for getting the look below.\",\n",
       " \"temperature goes down, I've been looking for the perfectjacketsto layer over myfall outfits. One of my versatile favorites is a stylishgreen jacket. You can layer one over abutton-down shirtorsweater, pair one withjeansandflats, or even dress it up for a night out with asweater dressandboots. I rounded up 25 of my favorites below.\",\n",
       " 'stylish yeteasy lookso this3-piece outfit inspirationis right up my alley.Kaitlynn Hudson-Lucasshows that all it takes is a few effortless pieces to put together a coolfall look. All you need is a darktrench coat, a coolprint dress, andblack booties. Shop my favorites pieces for getting thefall outfitbelow.',\n",
       " 'for inspiration on how to wear yourwhite jeansinto the fall season, look no further than thisFrench-girl inspirationfromLéa-Elisabeth. All you need is 3 key pieces to pull it off this season: ablack cardigan, high-waistedwhite jeans, andblack ballet flats.',\n",
       " 'my rekindled love forberry lipsticks. The richlip coloris flattering on everyone and comes in a variety of finishes for every personal preference. Plus, you can wear the hue with any look. I love how modelGrace Gardinerwears her lipstick with a tousledupdoand awhite button-down shirt. Shop my topberry lipstickspicks below.',\n",
       " 'outfit ideasmake for the perfectcapsule wardrobefor the season. In essence, you need 10 key pieces: awhite button-down shirt, blackboatneck top, blackleather blazer,white straight-leg jeans, cameltrench coat, wide-legblack jeans, blackloafers, whitedenim jacket, classicstraight-leg jeans, and awhite t-shirt. Shop my top picks below then mix and match for a variety of looks that are great for any occasion.',\n",
       " 'my favorite shoe styles for completing a variety offall outfitsis a great pair ofblack flats. Whether with asweaterandstraight-leg jeans, aprinted dressor withleather pantslikeEllinorabove,black flatsare a classic go-to, especially ablack ballet flat. Shop my top picks of the moment below.',\n",
       " \"piece-outfitideaFrench girlsare loving this season. I spotted it onJeanne Damasand her friend and can't wait to recreate theclassic look. All you need is a blackribbed top,raw-hem jeans, andespadrille wedge sandals. Best part is, you can wear this outfit straight into fall.\",\n",
       " 'to put away your favorite silkyslip dressesjust yet. You can easily make them fall-appropriate by adding a warmer layer, like a simplejacket. The way this street style star styled hers is proof–She wore hers with ablazer, leather bag, and classicballet flats. Other great shoe options areankle bootsorsneakers. Shop my favoritesilk dressesbelow.',\n",
       " \"the most impact, and that's the exact case with thisInstagram outfitfromFrench stylemuseSophie Hubert. She took3 piecesand turned them into an incredibly stylishFrench-girl look: an oversizedblack button-down shirt, classicraw-hem jeans, andblack slingback heels.\",\n",
       " \"can't live without forsummer outfitsis a great pair ofwhite jeans. Here, modelsLaura JulieandAmalie Moosgaard Nielsenshow just how a coolwhite denimcan be—Just add a basicwhite tank toporbutton-down shirt, sleeksandals, and you're good to go. Shop my top 25white jeanspicks below.\",\n",
       " 'starts to get hot I often reach for a breezylinen piece. My favorite at the moment? A sleeveless whitelinen dress. One can keep you looking and feeling cool without sacrificing style. Wear on the weekend or yournext vacationwith a chicstraw hatandlace-up sandalsfor the ultimatesummer look.',\n",
       " 'thatcut-off denim shortscan look super chic if worn just like aFrench girl. Parisian Instagram starLeia Sfezwears herdenim shortswith a classic whitebutton-down shirt, classicblack shoulder bag, and Chanel cap-toeballet flats. Recreate thesummer weekend outfitwith my picks below.',\n",
       " 'look, from British influencerEmma Hill, is perfect for running errands. Thecasual outfit ideais super easy to pull off— All you need is astriped button-down,tan tote bag, baggyblack pants, and whiteConverse sneakers.',\n",
       " \"forgreat jeansno matter the season, so needless to say, I could totally live in this cooldenim outfit idea. To get the look you'll need a minimalistblack topwith wide sleeves, coolblack sunglasses, a statementhoop earring, classic woventote bag, statementmule sandals, and a cool lip color. Shop every piece of the outfit below.1.H&M V-Neck Blouse2.Chimi 09 Sunglasses3.Maria Black Sienna Single Layered Hoop Earring4.Dragon Diffusion Grace Double Jump Small Woven-Leather Basket Bag5.MAKE Beauty Serum Balm Intense Pigmented Lip Emollient6.AGOLDE '90s Pinch High Waist Straight Leg Organic Cotton Jeans(alsohere)7.Jil Sander Tripon Leather Mule Sandals\",\n",
       " 'and content creatorNatasha Ndlovuin a pair oflight-wash jeans, I knew I had to have a pair. Whether with ablazerandwhite teeor with agoing-out top, this wash is perfect forspring and summer looks. Shop my top 25 picks of the season below.']"
      ]
     },
     "execution_count": 19,
     "metadata": {},
     "output_type": "execute_result"
    }
   ],
   "source": [
    "cleaned_list = [\" \".join(item.split()[2:]) for item in res]\n",
    "res = []\n",
    "# Printing the cleaned list\n",
    "for item in cleaned_list:\n",
    "    a=item.split(\"Java\")[0]\n",
    "    res.append(a)\n",
    "res"
   ]
  },
  {
   "cell_type": "code",
   "execution_count": 11,
   "id": "44374408",
   "metadata": {},
   "outputs": [],
   "source": [
    "def getTopics(main_url):\n",
    "    response = requests.get(main_url)\n",
    "    soup = BeautifulSoup(response.content, \"html.parser\")\n",
    "    top_product_elements = soup.find('h3', class_=\"post-title entry-title\")\n",
    "    visible_text = top_product_elements.get_text(strip=True)\n",
    "    return visible_text"
   ]
  },
  {
   "cell_type": "code",
   "execution_count": 13,
   "id": "f37d661f",
   "metadata": {},
   "outputs": [],
   "source": [
    "def getTrendingTopics():\n",
    "    li =[]\n",
    "    l = getLinks()\n",
    "    print('done')\n",
    "    c=0\n",
    "    for link in l:\n",
    "        a = getTopics(link)\n",
    "        print(c)\n",
    "        c=c+1\n",
    "        li.append(a)\n",
    "    return li\n",
    "        "
   ]
  },
  {
   "cell_type": "code",
   "execution_count": 14,
   "id": "ea8e7054",
   "metadata": {},
   "outputs": [
    {
     "name": "stdout",
     "output_type": "stream",
     "text": [
      "done\n",
      "0\n",
      "1\n",
      "2\n",
      "3\n",
      "4\n",
      "5\n",
      "6\n",
      "7\n",
      "8\n",
      "9\n",
      "10\n",
      "11\n",
      "12\n",
      "13\n",
      "14\n",
      "15\n",
      "16\n",
      "17\n",
      "18\n",
      "19\n",
      "20\n",
      "21\n",
      "22\n",
      "23\n",
      "24\n",
      "25\n",
      "26\n",
      "27\n",
      "28\n",
      "29\n"
     ]
    }
   ],
   "source": [
    "tp = getTrendingTopics()"
   ]
  },
  {
   "cell_type": "code",
   "execution_count": 15,
   "id": "7032e106",
   "metadata": {},
   "outputs": [
    {
     "data": {
      "text/plain": [
       "['I Love This Easy Outfit Combo for Fall and Winter',\n",
       " 'The Minimalist Outfit I Want to Live In for Fall and Winter',\n",
       " 'This Minimalist 3-Piece Outfit Is Perfect for the Holidays',\n",
       " '25 of the Best White Denim Pieces for Fall and Winter',\n",
       " 'How to Master the Layered Blazer Look for Winter',\n",
       " 'A Cozy Yet Elevated Outfit for Fall and Winter',\n",
       " 'A Classic Fall Outfit to Recreate This Weekend',\n",
       " 'All the Houndstooth Coats and Jackets I Love Right Now',\n",
       " 'A Stylish French-Girl Winter Outfit to Try Now',\n",
       " 'This Tie-Front Top Is Perfect for a Holiday Party',\n",
       " 'These Over-the-Knee Boots Have My Attention This Season',\n",
       " '25 White Jeans We Have in Our Carts for Fall',\n",
       " \"Reach for These 2 Pieces When You Don't Know What to Wear\",\n",
       " '25 Effortless Sweaterdresses to Get You Through Fall',\n",
       " \"The 3-Piece Fall Outfit Formula I Can't Get Enough Of\",\n",
       " '25 Green Jackets I Have My Eye on This Fall',\n",
       " 'The 3-Piece Fall Outfit Formula I Love',\n",
       " 'The French-Girl Way to Wear White Jeans for Fall',\n",
       " '19 Berry Lipsticks That Are Perfect for Fall',\n",
       " '5 Minimalist Fall Outfit Ideas to Wear All Season Long',\n",
       " 'The Coolest Black Flats to Complete Your Fall Outfits',\n",
       " 'The 3-Piece Outfit French Girls Are Loving This Season',\n",
       " 'How to Wear a Silk Slip Dress Through Fall',\n",
       " 'This Stylish 3-Piece Instagram Outfit Has My Attention',\n",
       " '25 of the Coolest White Jeans to Wear All Summer Long',\n",
       " '21 Breezy Sleeveless White Linen Dresses for Summer',\n",
       " 'The French Girl Way to Wear Cut-Off Denim Shorts',\n",
       " 'A Cool Weekend-Ready Look for Running Errands',\n",
       " 'I Could Live In This Cool Denim Outfit Idea',\n",
       " \"25 Light-Wash Jeans I Can't Get Enough Of\"]"
      ]
     },
     "execution_count": 15,
     "metadata": {},
     "output_type": "execute_result"
    }
   ],
   "source": [
    "tp"
   ]
  },
  {
   "cell_type": "code",
   "execution_count": 16,
   "id": "2888a76c",
   "metadata": {},
   "outputs": [],
   "source": [
    "question_forms = [\n",
    "    \"What is a recommended easy outfit combo for fall and winter that I would love?\",\n",
    "    \"Which minimalist outfit is ideal for fall and winter and is one that you'd want to live in?\",\n",
    "    \"What outfit consisting of three minimalist pieces is perfect for the holiday season?\",\n",
    "    \"Can you suggest 25 of the best white denim pieces for fall and winter?\",\n",
    "    \"How can I master the layered blazer look specifically for the winter season?\",\n",
    "    \"Do you have any suggestions for a cozy yet elevated outfit suitable for fall and winter?\",\n",
    "    \"Could you provide details about a classic fall outfit that I could recreate this weekend?\",\n",
    "    \"What are some houndstooth coats and jackets that you're currently loving?\",\n",
    "    \"Can you recommend a stylish French-girl winter outfit that's worth trying out?\",\n",
    "    \"Is there a tie-front top that's perfect for a holiday party? If yes, which one?\",\n",
    "    \"What over-the-knee boots have caught your attention this season?\",\n",
    "    \"Which white jeans are currently in your shopping cart for the fall season?\",\n",
    "    \"What are two pieces that I can reach for when I'm unsure about what to wear?\",\n",
    "    \"Can you share a selection of sweaterdresses that require little effort and are perfect for fall?\",\n",
    "    \"What's the 3-piece fall outfit formula that you can't seem to get enough of?\",\n",
    "    \"Are there any green jackets you have your eye on for this fall?\",\n",
    "    \"What's your favorite 3-piece fall outfit formula that you enjoy wearing?\",\n",
    "    \"How do French girls typically wear white jeans during the fall season?\",\n",
    "    \"Could you recommend some berry lipsticks that are perfect for the fall?\",\n",
    "    \"What are five minimalist fall outfit ideas that I can wear throughout the season?\",\n",
    "    \"Which black flats are the coolest to complete fall outfits with?\",\n",
    "    \"What's the 3-piece outfit that French girls are particularly fond of this season?\",\n",
    "    \"How can I stylishly wear a silk slip dress during the fall months?\",\n",
    "    \"What's the attention-grabbing stylish 3-piece outfit idea that I've seen on Instagram?\",\n",
    "    \"Can you suggest 25 of the coolest white jeans that I can wear all summer long?\",\n",
    "    \"Are there 21 breezy sleeveless white linen dresses that are suitable for summer?\",\n",
    "    \"How do French girls typically wear cut-off denim shorts?\",\n",
    "    \"What's a cool weekend-ready look that's perfect for running errands?\",\n",
    "    \"What's a denim outfit idea that's so cool, you could practically live in it?\",\n",
    "    \"Are there any light-wash jeans that you simply can't get enough of?\"\n",
    "]\n",
    "\n"
   ]
  },
  {
   "cell_type": "code",
   "execution_count": 20,
   "id": "1dcf7e82",
   "metadata": {},
   "outputs": [],
   "source": [
    "bot = []\n",
    "str1 = 'question'\n",
    "str2 = 'answer'\n",
    "for i in range(len(question_forms)):\n",
    "    d = {}\n",
    "    d[str1] = question_forms[i]\n",
    "    d[str2] = res[i]\n",
    "    bot.append(dict(d))"
   ]
  },
  {
   "cell_type": "code",
   "execution_count": 21,
   "id": "265fd4b0",
   "metadata": {},
   "outputs": [
    {
     "data": {
      "text/plain": [
       "[{'question': 'What is a recommended easy outfit combo for fall and winter that I would love?',\n",
       "  'answer': 'toChristine Centenerato come up with an easy yet super stylishfall and winter outfitcombo. All you need to recreate this greatstreet style lookis 2 key pieces: a neutralturtleneck sweaterand a pair ofwhite jeans. Complete the outfit with chicankle bootsand aclassic coat. Shop my top picks for getting the look below.'},\n",
       " {'question': \"Which minimalist outfit is ideal for fall and winter and is one that you'd want to live in?\",\n",
       "  'answer': 'to live in aminimalist outfitthis season, this inspiration fromInstagramwould be it. Thefall lookis effortless and classic not to mention super easy to recreate—You may already have the 4 key pieces in your closet. All you need is a sleekblack coat, a basicblack turtleneck, croppedstraight-leg jeans, andmule flats. Swap inblack bootson colder days.'},\n",
       " {'question': 'What outfit consisting of three minimalist pieces is perfect for the holiday season?',\n",
       "  'answer': \"ideasoften have a glitzy connotation which can lead to a lack of inspiration that caters to those with a moreminimalisttaste. Enter this pared down yet incredibly stylish look fromElin Kling. It's perfect for every holiday from Christmas to New Year's and everything in between. The major plus is it only calls for 3 key pieces: an oversizedbeige sweater, sleek blacksatin skirt, andblack mule heels.\"},\n",
       " {'question': 'Can you suggest 25 of the best white denim pieces for fall and winter?',\n",
       "  'answer': \"now,white denimhas no longer been a faux-pas comefall and winter. And, we thank the fashion gods for this—Just look how coolChristie Tyler's all-whitedenim outfitis. That said, no need to pack up your favoritewhite jeansorwhite denim jackets. Pair them withturtlenecksandankle bootsfor a cool cold-weather outfit. We rounded up 25 of the coolestwhite denimpieces to shop now below.\"},\n",
       " {'question': 'How can I master the layered blazer look specifically for the winter season?',\n",
       "  'answer': \"an insanely cool way to layer ablazerin this coolwinter outfit. To recreate her stylish cold-weather look you'll need a blackbeanie hat,plaid blazerorhoundstooth blazer, texturedcream sweater, and a pair ofjeans. To complete the look try acrossbody bagwith a statement strap.\"},\n",
       " {'question': 'Do you have any suggestions for a cozy yet elevated outfit suitable for fall and winter?',\n",
       "  'answer': 'elevated outfit inspiration fromMashais spot-on for fall and winter. Whether as a work look or running errands, thiseasy outfitwill come in handy. All you need is a neutralfur coat, awhite knit sweater, classicblack clutch bag, andblack pants. Complete the look with everything fromankle bootstomulesto classicsneakers.'},\n",
       " {'question': 'Could you provide details about a classic fall outfit that I could recreate this weekend?',\n",
       "  'answer': \"ensembles—they never get old. This year, I'm looking toward functional, but stylish looks that pack a punch without being too dressed up. Thisfall outfitis ideal. Pair a neutral leatherbutton-down shirt(preferably loose fitting) with straight-legwhite jeansand your favorite heeledbootsfor an outfit that looks as good as it feels. Complete the look with a pair of trendyoval sunglasses. Shop the pieces to recreate it yourself below.\"},\n",
       " {'question': \"What are some houndstooth coats and jackets that you're currently loving?\",\n",
       "  'answer': \"a special place in my heart. The print is a classic and reminds me of thehoundstooth coatI wore the first day of my college internship atHarper's Bazaar. After seeing ahoundstooth jacketonLydia RosefromInstagram, my love was rekindled and I went on the hunt for a fresh coat or jacket with the print. Shop all my favorites below—You can wear ahoundstooth coat or jacketwith everything from a t-shirt, blackleggings, andankle bootsto aslip dresslayered withturtleneckandknee-high boots.\"},\n",
       " {'question': \"Can you recommend a stylish French-girl winter outfit that's worth trying out?\",\n",
       "  'answer': \"styleinspiration this season? Take a look at this low-key yet coolwinter outfit ideafromSolene Larathat's great for theweekend, running essential errands and more. To recreate the outfit you'll need acamel coat, a smalltan bag, a pair ofblack jeanswith raw hems, andblack ankle bootswith studded detailing.\"},\n",
       " {'question': \"Is there a tie-front top that's perfect for a holiday party? If yes, which one?\",\n",
       "  'answer': 'Christmas or any of the other upcomingholiday festivities, I am loving thissatin tie-front top. The stylish top comes in at just over$100and goes great with everything fromhigh-waisted jeansto ablack pantsor aslip skirt.'},\n",
       " {'question': 'What over-the-knee boots have caught your attention this season?',\n",
       "  'answer': 'seeing this incredibly cool street style outfit from modelAdut Akech Bior,over-the-knee bootsmoved quickly to the top of my must-have list. Whether with a classicblazerandleather skirtor with a chunkysweaterandleggings, a pair oftall bootsare guaranteed to elevate any fall or winter outfit. I rounded up 25 of my topover-the-knee bootpicks below.'},\n",
       " {'question': 'Which white jeans are currently in your shopping cart for the fall season?',\n",
       "  'answer': 'for an easy way to brighten up yourfall outfits, simply throw on a pair ofwhite jeans. A pair can instantly lighten up any look and go great with just about anything. Style yours likeAnne-Laure Maisdid, with aneutral sweater, a leathercrossbody bag, and heeledsuede ankle boots. Shop similarraw-hemoptions, along with our other favorite styles below.'},\n",
       " {'question': \"What are two pieces that I can reach for when I'm unsure about what to wear?\",\n",
       "  'answer': \"late or are simply feeling uninspired when picking out youroutfitfor the day, these 2 pieces will definitely come in handy: ablue button-down shirtand chunkyhoop earrings. This combo can be worn to just about any occasion during any season. Not convinced? Consider the outfit ideas below forwork, brunch,date-night, running errands, and much more. You likely already have these pieces in your closet.Wear withjeans(classic blue, white or black work best) and any shoe (flats, mules, sneakers, booties, strappy sandals...etc.)Wear tucked in to amidi skirt(satin, printed, or solid colors all work), again with any shoe style depending on the occasion.Wear half-tucked into a pair ofdenim shorts(stick to classic, white or black options) and complete with sandals.Wear tucked into a pair ofdressy shorts(leather, camel, linen...etc.) and complete with sandals, mules, or heels.For a cozy weekend look, wear over a pair of classicblack leggingsand wear a comfy shoe like sneakers, flats, or sandals.Layer under aslip dressfor the ultimate fashion-forward look. This can be worn with any shoe. Go casual with sneakers or a heeled style for a dressier event.Tuck intocropped wide-leg pants(black, white, camel options). For work, try a bootie or pump. For an everyday look try sneakers, flats, mules, or even sandals.For a formal event, think '90s-chic (Sharon StoneorCarolyn Bessette-Kennedy). Tuck the shirt into anelegant skirtorsatin pantsand finish with a sleek shoe.\"},\n",
       " {'question': 'Can you share a selection of sweaterdresses that require little effort and are perfect for fall?',\n",
       "  'answer': \"one-and-done piece is classic, effortless, and a godsend when I don't know what to wear. Wear with everything fromknee-high bootstosneakersand you're out the door in a flash. I rounded up my favoritesweaterdressesof the moment below.\"},\n",
       " {'question': \"What's the 3-piece fall outfit formula that you can't seem to get enough of?\",\n",
       "  'answer': \"outfit idea, especially one that's classic and can stand the test of time. Enter this cool denim look fromTotême. All you need is 3 key pieces to recreate the outfit including a crispwhite button-down shirt,straight-leg jeans, and blackmule flats. Shop the actual look, plus similar pieces for getting the look below.\"},\n",
       " {'question': 'Are there any green jackets you have your eye on for this fall?',\n",
       "  'answer': \"temperature goes down, I've been looking for the perfectjacketsto layer over myfall outfits. One of my versatile favorites is a stylishgreen jacket. You can layer one over abutton-down shirtorsweater, pair one withjeansandflats, or even dress it up for a night out with asweater dressandboots. I rounded up 25 of my favorites below.\"},\n",
       " {'question': \"What's your favorite 3-piece fall outfit formula that you enjoy wearing?\",\n",
       "  'answer': 'stylish yeteasy lookso this3-piece outfit inspirationis right up my alley.Kaitlynn Hudson-Lucasshows that all it takes is a few effortless pieces to put together a coolfall look. All you need is a darktrench coat, a coolprint dress, andblack booties. Shop my favorites pieces for getting thefall outfitbelow.'},\n",
       " {'question': 'How do French girls typically wear white jeans during the fall season?',\n",
       "  'answer': 'for inspiration on how to wear yourwhite jeansinto the fall season, look no further than thisFrench-girl inspirationfromLéa-Elisabeth. All you need is 3 key pieces to pull it off this season: ablack cardigan, high-waistedwhite jeans, andblack ballet flats.'},\n",
       " {'question': 'Could you recommend some berry lipsticks that are perfect for the fall?',\n",
       "  'answer': 'my rekindled love forberry lipsticks. The richlip coloris flattering on everyone and comes in a variety of finishes for every personal preference. Plus, you can wear the hue with any look. I love how modelGrace Gardinerwears her lipstick with a tousledupdoand awhite button-down shirt. Shop my topberry lipstickspicks below.'},\n",
       " {'question': 'What are five minimalist fall outfit ideas that I can wear throughout the season?',\n",
       "  'answer': 'outfit ideasmake for the perfectcapsule wardrobefor the season. In essence, you need 10 key pieces: awhite button-down shirt, blackboatneck top, blackleather blazer,white straight-leg jeans, cameltrench coat, wide-legblack jeans, blackloafers, whitedenim jacket, classicstraight-leg jeans, and awhite t-shirt. Shop my top picks below then mix and match for a variety of looks that are great for any occasion.'},\n",
       " {'question': 'Which black flats are the coolest to complete fall outfits with?',\n",
       "  'answer': 'my favorite shoe styles for completing a variety offall outfitsis a great pair ofblack flats. Whether with asweaterandstraight-leg jeans, aprinted dressor withleather pantslikeEllinorabove,black flatsare a classic go-to, especially ablack ballet flat. Shop my top picks of the moment below.'},\n",
       " {'question': \"What's the 3-piece outfit that French girls are particularly fond of this season?\",\n",
       "  'answer': \"piece-outfitideaFrench girlsare loving this season. I spotted it onJeanne Damasand her friend and can't wait to recreate theclassic look. All you need is a blackribbed top,raw-hem jeans, andespadrille wedge sandals. Best part is, you can wear this outfit straight into fall.\"},\n",
       " {'question': 'How can I stylishly wear a silk slip dress during the fall months?',\n",
       "  'answer': 'to put away your favorite silkyslip dressesjust yet. You can easily make them fall-appropriate by adding a warmer layer, like a simplejacket. The way this street style star styled hers is proof–She wore hers with ablazer, leather bag, and classicballet flats. Other great shoe options areankle bootsorsneakers. Shop my favoritesilk dressesbelow.'},\n",
       " {'question': \"What's the attention-grabbing stylish 3-piece outfit idea that I've seen on Instagram?\",\n",
       "  'answer': \"the most impact, and that's the exact case with thisInstagram outfitfromFrench stylemuseSophie Hubert. She took3 piecesand turned them into an incredibly stylishFrench-girl look: an oversizedblack button-down shirt, classicraw-hem jeans, andblack slingback heels.\"},\n",
       " {'question': 'Can you suggest 25 of the coolest white jeans that I can wear all summer long?',\n",
       "  'answer': \"can't live without forsummer outfitsis a great pair ofwhite jeans. Here, modelsLaura JulieandAmalie Moosgaard Nielsenshow just how a coolwhite denimcan be—Just add a basicwhite tank toporbutton-down shirt, sleeksandals, and you're good to go. Shop my top 25white jeanspicks below.\"},\n",
       " {'question': 'Are there 21 breezy sleeveless white linen dresses that are suitable for summer?',\n",
       "  'answer': 'starts to get hot I often reach for a breezylinen piece. My favorite at the moment? A sleeveless whitelinen dress. One can keep you looking and feeling cool without sacrificing style. Wear on the weekend or yournext vacationwith a chicstraw hatandlace-up sandalsfor the ultimatesummer look.'},\n",
       " {'question': 'How do French girls typically wear cut-off denim shorts?',\n",
       "  'answer': 'thatcut-off denim shortscan look super chic if worn just like aFrench girl. Parisian Instagram starLeia Sfezwears herdenim shortswith a classic whitebutton-down shirt, classicblack shoulder bag, and Chanel cap-toeballet flats. Recreate thesummer weekend outfitwith my picks below.'},\n",
       " {'question': \"What's a cool weekend-ready look that's perfect for running errands?\",\n",
       "  'answer': 'look, from British influencerEmma Hill, is perfect for running errands. Thecasual outfit ideais super easy to pull off— All you need is astriped button-down,tan tote bag, baggyblack pants, and whiteConverse sneakers.'},\n",
       " {'question': \"What's a denim outfit idea that's so cool, you could practically live in it?\",\n",
       "  'answer': \"forgreat jeansno matter the season, so needless to say, I could totally live in this cooldenim outfit idea. To get the look you'll need a minimalistblack topwith wide sleeves, coolblack sunglasses, a statementhoop earring, classic woventote bag, statementmule sandals, and a cool lip color. Shop every piece of the outfit below.1.H&M V-Neck Blouse2.Chimi 09 Sunglasses3.Maria Black Sienna Single Layered Hoop Earring4.Dragon Diffusion Grace Double Jump Small Woven-Leather Basket Bag5.MAKE Beauty Serum Balm Intense Pigmented Lip Emollient6.AGOLDE '90s Pinch High Waist Straight Leg Organic Cotton Jeans(alsohere)7.Jil Sander Tripon Leather Mule Sandals\"},\n",
       " {'question': \"Are there any light-wash jeans that you simply can't get enough of?\",\n",
       "  'answer': 'and content creatorNatasha Ndlovuin a pair oflight-wash jeans, I knew I had to have a pair. Whether with ablazerandwhite teeor with agoing-out top, this wash is perfect forspring and summer looks. Shop my top 25 picks of the season below.'}]"
      ]
     },
     "execution_count": 21,
     "metadata": {},
     "output_type": "execute_result"
    }
   ],
   "source": [
    "bot"
   ]
  },
  {
   "cell_type": "code",
   "execution_count": 22,
   "id": "1de9bce3",
   "metadata": {},
   "outputs": [],
   "source": [
    "json_file_path = \"data.json\"\n",
    "\n",
    "with open(json_file_path, 'w') as json_file:\n",
    "    json.dump(bot, json_file)"
   ]
  },
  {
   "cell_type": "code",
   "execution_count": null,
   "id": "ad5d6c9f",
   "metadata": {},
   "outputs": [],
   "source": []
  }
 ],
 "metadata": {
  "kernelspec": {
   "display_name": "Python 3",
   "language": "python",
   "name": "python3"
  },
  "language_info": {
   "codemirror_mode": {
    "name": "ipython",
    "version": 3
   },
   "file_extension": ".py",
   "mimetype": "text/x-python",
   "name": "python",
   "nbconvert_exporter": "python",
   "pygments_lexer": "ipython3",
   "version": "3.9.17"
  }
 },
 "nbformat": 4,
 "nbformat_minor": 5
}
